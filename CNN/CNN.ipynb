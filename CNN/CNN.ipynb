{
  "nbformat": 4,
  "nbformat_minor": 0,
  "metadata": {
    "colab": {
      "name": "Untitled5.ipynb",
      "provenance": []
    },
    "kernelspec": {
      "name": "python3",
      "display_name": "Python 3"
    },
    "language_info": {
      "name": "python"
    }
  },
  "cells": [
    {
      "cell_type": "code",
      "execution_count": 38,
      "metadata": {
        "id": "7yJlr3v6NdEE"
      },
      "outputs": [],
      "source": [
        "import tensorflow as tf\n",
        "from keras.preprocessing.image import ImageDataGenerator"
      ]
    },
    {
      "cell_type": "code",
      "source": [
        "training_data_generator = ImageDataGenerator(rescale= 1.0/255,\n",
        "                                            shear_range= 0.2,\n",
        "                                            zoom_range= 0.2,\n",
        "                                            horizontal_flip= True\n",
        "                                            )"
      ],
      "metadata": {
        "id": "yxFsxRvHNstb"
      },
      "execution_count": null,
      "outputs": []
    },
    {
      "cell_type": "code",
      "source": [
        "test_data_generator = ImageDataGenerator(rescale= 1.0/255)"
      ],
      "metadata": {
        "id": "tbP-EDAlN65w"
      },
      "execution_count": null,
      "outputs": []
    },
    {
      "cell_type": "code",
      "source": [
        "training_set = training_data_generator.flow_from_directory(\"training\",\n",
        "                                                           target_size= (64, 64),\n",
        "                                                           batch_size=32,\n",
        "                                                           class_mode= \"binary\")"
      ],
      "metadata": {
        "id": "CBoTpaz9OoAN",
        "colab": {
          "base_uri": "https://localhost:8080/"
        },
        "outputId": "bdf0897f-262a-448d-df79-7ebbe0901634"
      },
      "execution_count": 37,
      "outputs": [
        {
          "output_type": "stream",
          "name": "stdout",
          "text": [
            "Found 793 images belonging to 3 classes.\n"
          ]
        }
      ]
    },
    {
      "cell_type": "code",
      "source": [
        "test_set = test_data_generator.flow_from_directory(\"test\",\n",
        "                                                   target_size= (64, 64),\n",
        "                                                    batch_size=32,\n",
        "                                                    class_mode= \"binary\")"
      ],
      "metadata": {
        "id": "NRpZTeq9OoRQ",
        "colab": {
          "base_uri": "https://localhost:8080/"
        },
        "outputId": "390dc70b-5b54-4060-9b2b-8effc84a2e27"
      },
      "execution_count": 39,
      "outputs": [
        {
          "output_type": "stream",
          "name": "stdout",
          "text": [
            "Found 100 images belonging to 3 classes.\n"
          ]
        }
      ]
    },
    {
      "cell_type": "code",
      "source": [
        "cnn = tf.keras.models.Sequential()"
      ],
      "metadata": {
        "id": "aI_DvVh5RuB1"
      },
      "execution_count": 40,
      "outputs": []
    },
    {
      "cell_type": "code",
      "source": [
        "cnn.add(tf.keras.layers.Conv2D(filters= 32, kernel_size=3, activation=\"relu\", input_shape= [64, 64, 3]))"
      ],
      "metadata": {
        "id": "6cXs-H_WR0zI"
      },
      "execution_count": 41,
      "outputs": []
    },
    {
      "cell_type": "code",
      "source": [
        "cnn.add(tf.keras.layers.MaxPool2D(pool_size= 2, strides=2))"
      ],
      "metadata": {
        "id": "cEORuYGFSQ3I"
      },
      "execution_count": 42,
      "outputs": []
    },
    {
      "cell_type": "code",
      "source": [
        "cnn.add(tf.keras.layers.Conv2D(filters= 32, kernel_size=2, activation= 'relu'))\n",
        "cnn.add(tf.keras.layers.MaxPool2D(pool_size= 2, strides= 2))"
      ],
      "metadata": {
        "id": "mFyn1prTSgZz"
      },
      "execution_count": 43,
      "outputs": []
    },
    {
      "cell_type": "code",
      "source": [
        "cnn.add(tf.keras.layers.Flatten())"
      ],
      "metadata": {
        "id": "R2zjo-QNTJum"
      },
      "execution_count": 44,
      "outputs": []
    },
    {
      "cell_type": "code",
      "source": [
        "cnn.add(tf.keras.layers.Dense(units= 128, activation= 'relu'))"
      ],
      "metadata": {
        "id": "R3f5m8gOTRtQ"
      },
      "execution_count": 45,
      "outputs": []
    },
    {
      "cell_type": "code",
      "source": [
        "cnn.add(tf.keras.layers.Dense(units= 1, activation= 'sigmoid'))"
      ],
      "metadata": {
        "id": "JbUxGzb5TiYB"
      },
      "execution_count": 46,
      "outputs": []
    },
    {
      "cell_type": "code",
      "source": [
        "cnn.compile(optimizer= 'adam', metrics=['accuracy'], loss= 'binary_crossentropy')"
      ],
      "metadata": {
        "id": "sw6I3nGBTrLL"
      },
      "execution_count": 47,
      "outputs": []
    },
    {
      "cell_type": "code",
      "source": [
        "cnn.fit(x= training_set, validation_data= test_set, epochs= 50)"
      ],
      "metadata": {
        "colab": {
          "base_uri": "https://localhost:8080/"
        },
        "id": "LwWE_1kUT7Iu",
        "outputId": "56488cf7-271a-47a0-9de2-d82b1dc84261"
      },
      "execution_count": 48,
      "outputs": [
        {
          "output_type": "stream",
          "name": "stdout",
          "text": [
            "Epoch 1/50\n",
            "25/25 [==============================] - 7s 239ms/step - loss: -188.3599 - accuracy: 0.5132 - val_loss: -877.0243 - val_accuracy: 0.5000\n",
            "Epoch 2/50\n",
            "25/25 [==============================] - 6s 233ms/step - loss: -4542.3218 - accuracy: 0.5132 - val_loss: -13948.1602 - val_accuracy: 0.5000\n",
            "Epoch 3/50\n",
            "25/25 [==============================] - 6s 231ms/step - loss: -37885.4844 - accuracy: 0.5132 - val_loss: -89203.1719 - val_accuracy: 0.5000\n",
            "Epoch 4/50\n",
            "25/25 [==============================] - 6s 229ms/step - loss: -177388.1719 - accuracy: 0.5132 - val_loss: -348147.6250 - val_accuracy: 0.5000\n",
            "Epoch 5/50\n",
            "25/25 [==============================] - 6s 227ms/step - loss: -580062.5625 - accuracy: 0.5132 - val_loss: -1023283.5000 - val_accuracy: 0.5000\n",
            "Epoch 6/50\n",
            "25/25 [==============================] - 6s 224ms/step - loss: -1510672.6250 - accuracy: 0.5132 - val_loss: -2466793.5000 - val_accuracy: 0.5000\n",
            "Epoch 7/50\n",
            "25/25 [==============================] - 6s 236ms/step - loss: -3320708.0000 - accuracy: 0.5132 - val_loss: -5150134.5000 - val_accuracy: 0.5000\n",
            "Epoch 8/50\n",
            "25/25 [==============================] - 6s 227ms/step - loss: -6658105.5000 - accuracy: 0.5132 - val_loss: -9664831.0000 - val_accuracy: 0.5000\n",
            "Epoch 9/50\n",
            "25/25 [==============================] - 6s 225ms/step - loss: -12118744.0000 - accuracy: 0.5132 - val_loss: -16814846.0000 - val_accuracy: 0.5000\n",
            "Epoch 10/50\n",
            "25/25 [==============================] - 6s 235ms/step - loss: -20082836.0000 - accuracy: 0.5132 - val_loss: -27543672.0000 - val_accuracy: 0.5000\n",
            "Epoch 11/50\n",
            "25/25 [==============================] - 6s 225ms/step - loss: -32137564.0000 - accuracy: 0.5132 - val_loss: -42505752.0000 - val_accuracy: 0.5000\n",
            "Epoch 12/50\n",
            "25/25 [==============================] - 6s 239ms/step - loss: -48575028.0000 - accuracy: 0.5132 - val_loss: -63167440.0000 - val_accuracy: 0.5000\n",
            "Epoch 13/50\n",
            "25/25 [==============================] - 6s 227ms/step - loss: -70940616.0000 - accuracy: 0.5132 - val_loss: -90556008.0000 - val_accuracy: 0.5000\n",
            "Epoch 14/50\n",
            "25/25 [==============================] - 6s 225ms/step - loss: -99679288.0000 - accuracy: 0.5132 - val_loss: -125730160.0000 - val_accuracy: 0.5000\n",
            "Epoch 15/50\n",
            "25/25 [==============================] - 6s 223ms/step - loss: -136128880.0000 - accuracy: 0.5132 - val_loss: -170834640.0000 - val_accuracy: 0.5000\n",
            "Epoch 16/50\n",
            "25/25 [==============================] - 6s 227ms/step - loss: -183294496.0000 - accuracy: 0.5132 - val_loss: -225381280.0000 - val_accuracy: 0.5000\n",
            "Epoch 17/50\n",
            "25/25 [==============================] - 6s 226ms/step - loss: -238922192.0000 - accuracy: 0.5132 - val_loss: -293178144.0000 - val_accuracy: 0.5000\n",
            "Epoch 18/50\n",
            "25/25 [==============================] - 6s 232ms/step - loss: -308879552.0000 - accuracy: 0.5132 - val_loss: -374770496.0000 - val_accuracy: 0.5000\n",
            "Epoch 19/50\n",
            "25/25 [==============================] - 6s 226ms/step - loss: -392483520.0000 - accuracy: 0.5132 - val_loss: -471346656.0000 - val_accuracy: 0.5000\n",
            "Epoch 20/50\n",
            "25/25 [==============================] - 6s 229ms/step - loss: -488284576.0000 - accuracy: 0.5132 - val_loss: -585658880.0000 - val_accuracy: 0.5000\n",
            "Epoch 21/50\n",
            "25/25 [==============================] - 6s 228ms/step - loss: -604454976.0000 - accuracy: 0.5132 - val_loss: -719085248.0000 - val_accuracy: 0.5000\n",
            "Epoch 22/50\n",
            "25/25 [==============================] - 6s 227ms/step - loss: -736753728.0000 - accuracy: 0.5132 - val_loss: -875206720.0000 - val_accuracy: 0.5000\n",
            "Epoch 23/50\n",
            "25/25 [==============================] - 6s 225ms/step - loss: -889825920.0000 - accuracy: 0.5132 - val_loss: -1050988736.0000 - val_accuracy: 0.5000\n",
            "Epoch 24/50\n",
            "25/25 [==============================] - 6s 226ms/step - loss: -1067850688.0000 - accuracy: 0.5132 - val_loss: -1249018368.0000 - val_accuracy: 0.5000\n",
            "Epoch 25/50\n",
            "25/25 [==============================] - 6s 225ms/step - loss: -1266677120.0000 - accuracy: 0.5132 - val_loss: -1477500928.0000 - val_accuracy: 0.5000\n",
            "Epoch 26/50\n",
            "25/25 [==============================] - 6s 230ms/step - loss: -1489047296.0000 - accuracy: 0.5132 - val_loss: -1734861440.0000 - val_accuracy: 0.5000\n",
            "Epoch 27/50\n",
            "25/25 [==============================] - 6s 224ms/step - loss: -1748157184.0000 - accuracy: 0.5132 - val_loss: -2016407936.0000 - val_accuracy: 0.5000\n",
            "Epoch 28/50\n",
            "25/25 [==============================] - 6s 228ms/step - loss: -2023702784.0000 - accuracy: 0.5132 - val_loss: -2338124032.0000 - val_accuracy: 0.5000\n",
            "Epoch 29/50\n",
            "25/25 [==============================] - 6s 229ms/step - loss: -2333580544.0000 - accuracy: 0.5132 - val_loss: -2702175488.0000 - val_accuracy: 0.5000\n",
            "Epoch 30/50\n",
            "25/25 [==============================] - 6s 224ms/step - loss: -2691065088.0000 - accuracy: 0.5132 - val_loss: -3087804928.0000 - val_accuracy: 0.5000\n",
            "Epoch 31/50\n",
            "25/25 [==============================] - 6s 225ms/step - loss: -3075718144.0000 - accuracy: 0.5132 - val_loss: -3519311104.0000 - val_accuracy: 0.5000\n",
            "Epoch 32/50\n",
            "25/25 [==============================] - 6s 227ms/step - loss: -3489508608.0000 - accuracy: 0.5132 - val_loss: -3999427072.0000 - val_accuracy: 0.5000\n",
            "Epoch 33/50\n",
            "25/25 [==============================] - 6s 226ms/step - loss: -3953066752.0000 - accuracy: 0.5132 - val_loss: -4516221952.0000 - val_accuracy: 0.5000\n",
            "Epoch 34/50\n",
            "25/25 [==============================] - 6s 227ms/step - loss: -4466143232.0000 - accuracy: 0.5132 - val_loss: -5069477888.0000 - val_accuracy: 0.5000\n",
            "Epoch 35/50\n",
            "25/25 [==============================] - 6s 226ms/step - loss: -5005341184.0000 - accuracy: 0.5132 - val_loss: -5677665280.0000 - val_accuracy: 0.5000\n",
            "Epoch 36/50\n",
            "25/25 [==============================] - 6s 239ms/step - loss: -5595793408.0000 - accuracy: 0.5132 - val_loss: -6351580672.0000 - val_accuracy: 0.5000\n",
            "Epoch 37/50\n",
            "25/25 [==============================] - 6s 223ms/step - loss: -6232211968.0000 - accuracy: 0.5132 - val_loss: -7058345984.0000 - val_accuracy: 0.5000\n",
            "Epoch 38/50\n",
            "25/25 [==============================] - 6s 223ms/step - loss: -6921198080.0000 - accuracy: 0.5132 - val_loss: -7831853568.0000 - val_accuracy: 0.5000\n",
            "Epoch 39/50\n",
            "25/25 [==============================] - 6s 224ms/step - loss: -7651829248.0000 - accuracy: 0.5132 - val_loss: -8661466112.0000 - val_accuracy: 0.5000\n",
            "Epoch 40/50\n",
            "25/25 [==============================] - 6s 229ms/step - loss: -8474185728.0000 - accuracy: 0.5132 - val_loss: -9552308224.0000 - val_accuracy: 0.5000\n",
            "Epoch 41/50\n",
            "25/25 [==============================] - 6s 230ms/step - loss: -9328780288.0000 - accuracy: 0.5132 - val_loss: -10499782656.0000 - val_accuracy: 0.5000\n",
            "Epoch 42/50\n",
            "25/25 [==============================] - 6s 238ms/step - loss: -10218943488.0000 - accuracy: 0.5132 - val_loss: -11512401920.0000 - val_accuracy: 0.5000\n",
            "Epoch 43/50\n",
            "25/25 [==============================] - 6s 227ms/step - loss: -11205672960.0000 - accuracy: 0.5132 - val_loss: -12593496064.0000 - val_accuracy: 0.5000\n",
            "Epoch 44/50\n",
            "25/25 [==============================] - 6s 231ms/step - loss: -12229524480.0000 - accuracy: 0.5132 - val_loss: -13763265536.0000 - val_accuracy: 0.5000\n",
            "Epoch 45/50\n",
            "25/25 [==============================] - 6s 228ms/step - loss: -13371386880.0000 - accuracy: 0.5132 - val_loss: -14998891520.0000 - val_accuracy: 0.5000\n",
            "Epoch 46/50\n",
            "25/25 [==============================] - 6s 235ms/step - loss: -14569596928.0000 - accuracy: 0.5132 - val_loss: -16291367936.0000 - val_accuracy: 0.5000\n",
            "Epoch 47/50\n",
            "25/25 [==============================] - 6s 225ms/step - loss: -15744509952.0000 - accuracy: 0.5132 - val_loss: -17675595776.0000 - val_accuracy: 0.5000\n",
            "Epoch 48/50\n",
            "25/25 [==============================] - 6s 225ms/step - loss: -17099333632.0000 - accuracy: 0.5132 - val_loss: -19103506432.0000 - val_accuracy: 0.5000\n",
            "Epoch 49/50\n",
            "25/25 [==============================] - 6s 223ms/step - loss: -18522007552.0000 - accuracy: 0.5132 - val_loss: -20655542272.0000 - val_accuracy: 0.5000\n",
            "Epoch 50/50\n",
            "25/25 [==============================] - 6s 226ms/step - loss: -19983235072.0000 - accuracy: 0.5132 - val_loss: -22264537088.0000 - val_accuracy: 0.5000\n"
          ]
        },
        {
          "output_type": "execute_result",
          "data": {
            "text/plain": [
              "<keras.callbacks.History at 0x7f8074347590>"
            ]
          },
          "metadata": {},
          "execution_count": 48
        }
      ]
    },
    {
      "cell_type": "code",
      "source": [
        "import numpy as np\n",
        "from keras.preprocessing import image\n",
        "test_image = image.load_img('training/dogs/0.jpg', target_size= (64, 64))\n",
        "test_image = image.img_to_array(test_image)\n",
        "test_image = np.expand_dims(test_image, axis= 0)\n",
        "result = cnn.predict(test_image/255.0)\n",
        "print(training_set.class_indices)\n"
      ],
      "metadata": {
        "colab": {
          "base_uri": "https://localhost:8080/"
        },
        "id": "AxT_aARXU-ni",
        "outputId": "f3a150f7-3357-44b8-b301-9e3b3be0087f"
      },
      "execution_count": 58,
      "outputs": [
        {
          "output_type": "stream",
          "name": "stdout",
          "text": [
            "{'.ipynb_checkpoints': 0, 'cats': 1, 'dogs': 2}\n"
          ]
        }
      ]
    }
  ]
}